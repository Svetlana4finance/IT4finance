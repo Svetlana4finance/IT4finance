{
 "cells": [
  {
   "cell_type": "code",
   "execution_count": 1,
   "metadata": {},
   "outputs": [],
   "source": [
    "import psycopg2\n",
    "import getpass\n",
    "import pandas as pd\n",
    "import numpy as np\n",
    "from dateutil.relativedelta import relativedelta"
   ]
  },
  {
   "cell_type": "code",
   "execution_count": 2,
   "metadata": {},
   "outputs": [
    {
     "name": "stdout",
     "output_type": "stream",
     "text": [
      "Insert password: ········\n"
     ]
    }
   ],
   "source": [
    "# Задание 1\n",
    "# подключение к БД\n",
    "usr = 'postgres'\n",
    "dbs = 'postgres'\n",
    "host = 'localhost'\n",
    "port = '5432'\n",
    "conn = psycopg2.connect(user=usr,\n",
    "                      database=dbs,\n",
    "                      host=host,\n",
    "                      port=port,\n",
    "                      password=getpass.getpass('Insert password: ')\n",
    "                    )"
   ]
  },
  {
   "cell_type": "code",
   "execution_count": 3,
   "metadata": {},
   "outputs": [
    {
     "name": "stdout",
     "output_type": "stream",
     "text": [
      "{'user': 'postgres', 'dbname': 'postgres', 'host': 'localhost', 'port': '5432', 'tty': '', 'options': '', 'sslmode': 'prefer', 'sslcompression': '0', 'krbsrvname': 'postgres', 'target_session_attrs': 'any'}\n"
     ]
    }
   ],
   "source": [
    "print(conn.get_dsn_parameters())"
   ]
  },
  {
   "cell_type": "code",
   "execution_count": 151,
   "metadata": {},
   "outputs": [],
   "source": [
    "# Задание 3\n",
    "# возвращает параметры, матрицу рейтинга и матрицу дюраций\n",
    "# даты должны быть в формате YYYY-MM-DD\n",
    "def get_rating_matrix(rat_id, start_date, end_date):\n",
    "    # Задание 4\n",
    "    # запрос к БД, откуда исключаются рейтинги \"Снят\" и \"Присотановлен\"\n",
    "    query=\"SELECT * FROM ratings_task2 where rat_id = %d and date >= \\'%s\\' and date <= \\'%s\\'\" % \\\n",
    "                 (rat_id, start_date, end_date)\n",
    "    ratings=pd.read_sql_query(query,conn)\n",
    "\n",
    "    # список уникальных значений рейтингов, встречающихся в таблице рейтингов \n",
    "    rat_list = ratings[(ratings['grade'] != \"Снят\") & (ratings['grade'] != \"Приостановлен\")]['grade'].unique().tolist()\n",
    "    rat_list.sort() # сортировка рейтинга по алфавиту\n",
    "\n",
    "    # шаблон матрицы для расчета матрицы рейтингов\n",
    "    # где названия колонок и строк - значения рейтинга\n",
    "    zer_matrix = np.zeros((len(rat_list), len(rat_list)), dtype =int)\n",
    "    rating_matrix = pd.DataFrame(zer_matrix, columns = rat_list, index=rat_list)\n",
    "\n",
    "    # фильтрация нужных полей\n",
    "    ratings = ratings[['grade', 'date', 'ent_name', 'okpo']]\n",
    "\n",
    "    # сортировка рейтингов по  окпо компании и дате присвоения\n",
    "    sorted_rating = ratings.sort_values(by=['okpo', 'date'], ascending=[True, True]).copy(deep=True)\n",
    "    okpo_list = sorted_rating['okpo'].unique().tolist()\n",
    "\n",
    "    # присвоение ключа списку в соответсвии с порядком возрастания даты в пределах 1 компании\n",
    "    for i in range(len(okpo_list)):\n",
    "        k = len(sorted_rating[sorted_rating['okpo'] == okpo_list[i]])\n",
    "        sorted_rating.loc[sorted_rating['okpo'] == okpo_list[i], 'key'] = range(k)\n",
    "\n",
    "    # присвоения записям в пределах компании максимального ключа\n",
    "    sorted_rating['key_max'] = sorted_rating.groupby(['okpo'])['key'].transform(max)\n",
    "    # выбор первого рейтинга по дате в пределах компании\n",
    "    sorted_rating1 = sorted_rating[sorted_rating['key'] == 0].copy(deep=True)\n",
    "    # выбор последнего рейтинга по дате в пределах компании\n",
    "    sorted_rating2 = sorted_rating[sorted_rating['key'] == sorted_rating['key_max']].copy(deep=True)\n",
    "\n",
    "    # матрица с переходом из первого рейтинга в последний в пределах компании\n",
    "    trans_rat = pd.merge(sorted_rating1,sorted_rating2, on='okpo',how='left',suffixes=('_bef','_aft'))\n",
    "\n",
    "    # наполненние матрицы рейтингов\n",
    "    for i in range(len(rat_list)):\n",
    "        for j in range(len(rat_list)):\n",
    "            rating_matrix[rat_list[j]][rat_list[i]] = trans_rat[(trans_rat['grade_bef'] == rat_list[i]) & \\\n",
    "                                                                 (trans_rat['grade_aft'] == rat_list[j])].shape[0]\n",
    "    # расчет процентов по строкам\n",
    "    rating_matrix = rating_matrix.apply(lambda x: 100 * x/x.sum(), axis=1)\n",
    "    rating_matrix = rating_matrix.fillna(0)\n",
    "    \n",
    "    # расчет метода дюраций\n",
    "    # шаблон матрицы для расчета матрицы дюраций\n",
    "    # где названия колонок и строк - значения рейтинга\n",
    "    zer_matrix = np.zeros((len(rat_list), len(rat_list)), dtype =int)\n",
    "    duration_matrix = pd.DataFrame(zer_matrix, columns = rat_list, index=rat_list)\n",
    "    \n",
    "    # Для получения маршрута перехода рейтингов в порядке следования дат необходимо техническое решение.\n",
    "    # Можно присвоить идентификатор записям в порядке возрастания дат. И чтобы понять, какая дата будет следующей,\n",
    "    # взять тот же список и присваивать то же значение идентификатора, но уже начиная со второй даты.\n",
    "    sorted_rating3 = sorted_rating[sorted_rating['key'] > 0] # убрать запись с минимальной датой\n",
    "    sorted_rating3 = sorted_rating3.copy(deep=True)\n",
    "    # присвоение ключа списку в соответсвии с порядком возрастания даты в пределах 1 компании\n",
    "    for i in range(len(okpo_list)):\n",
    "        k = len(sorted_rating3[sorted_rating['okpo'] == okpo_list[i]])\n",
    "        sorted_rating3.loc[sorted_rating['okpo'] == okpo_list[i], 'key'] = range(k)\n",
    "\n",
    "    # матрица с маршрутами переходов из одного рейтинга в другой\n",
    "    jn_ratings = pd.merge(sorted_rating,sorted_rating3, left_on=['okpo', 'key'], right_on=['okpo', 'key'], how='left',suffixes=('_bef','_aft'))\n",
    "    \n",
    "    # итерация по всем переходам для разных оценок\n",
    "    for i in range(len(rat_list)):\n",
    "        for j in range(len(rat_list)):\n",
    "            if i != j:\n",
    "                # таблица со всеми переходами для пары перехода рейтинг1-рейтинг2\n",
    "                ex_mat = jn_ratings[(jn_ratings['grade_bef'] == rat_list[i]) & \\\n",
    "                                                                     (jn_ratings['grade_aft'] == rat_list[j])]\n",
    "                # расчет значений для перехода из одной оценки в другую \n",
    "                if (ex_mat.shape[0] > 0):\n",
    "                    dur_sum = np.sum(ex_mat['date_aft'] - ex_mat['date_bef']).days             \n",
    "                    if (dur_sum > 0):\n",
    "                        duration_matrix[rat_list[j]][rat_list[i]] = ex_mat.shape[0] / (dur_sum / 365)\n",
    "    \n",
    "    # сумма всех рассчитанных значений по строкам для получения дюрации оценки\n",
    "    sum_of_vals = duration_matrix.sum(axis=1)\n",
    "    # расчет дюрации для какждой оценки\n",
    "    for i in range(len(rat_list)):\n",
    "        duration_matrix[rat_list[i]][rat_list[i]] = sum_of_vals[i] * (-1)\n",
    "    \n",
    "    # вывод аргументов и матриц\n",
    "    print('rat_id: %s\\n' % rat_id)\n",
    "    print('start_date: %s\\n' % start_date)\n",
    "    print('end_date: %s\\n' % end_date)\n",
    "    \n",
    "    print('rating_matrix:')\n",
    "    print(rating_matrix)\n",
    "            \n",
    "    print('\\n')\n",
    "    print('duration_matrix:')\n",
    "    print(duration_matrix)\n",
    "    \n",
    "    results={'rat_id': rat_id, 'start_date': start_date, 'end_date': end_date, \\\n",
    "             'rating_matrix': rating_matrix, 'duration_matrix': duration_matrix}\n",
    "    \n",
    "    return results"
   ]
  },
  {
   "cell_type": "code",
   "execution_count": 152,
   "metadata": {},
   "outputs": [],
   "source": [
    "start_date = \"2010-08-04\"\n",
    "end_date = \"2016-04-18\"\n",
    "rat_id = 1"
   ]
  },
  {
   "cell_type": "code",
   "execution_count": 158,
   "metadata": {},
   "outputs": [
    {
     "name": "stdout",
     "output_type": "stream",
     "text": [
      "rat_id: 1\n",
      "\n",
      "start_date: 2000-01-01\n",
      "\n",
      "end_date: 2099-04-18\n",
      "\n",
      "rating_matrix:\n",
      "       A    B    B++\n",
      "A    0.0  0.0  100.0\n",
      "B    0.0  0.0    0.0\n",
      "B++  0.0  0.0    0.0\n",
      "\n",
      "\n",
      "duration_matrix:\n",
      "     A  B  B++\n",
      "A   -6  1    5\n",
      "B    0  0    0\n",
      "B++  0  0    0\n"
     ]
    },
    {
     "name": "stderr",
     "output_type": "stream",
     "text": [
      "D:\\Python\\lib\\site-packages\\ipykernel_launcher.py:64: UserWarning: Boolean Series key will be reindexed to match DataFrame index.\n"
     ]
    }
   ],
   "source": [
    "# Задание 2\n",
    "# Предупреждение Boolean Series key will be reindexed to match DataFrame index возникает из-за того,\n",
    "# что дважды присваивается ключ по дате присвоения рейтинга\n",
    "results = get_rating_matrix(rat_id, start_date, end_date)"
   ]
  },
  {
   "cell_type": "code",
   "execution_count": 159,
   "metadata": {},
   "outputs": [
    {
     "data": {
      "text/html": [
       "<div>\n",
       "<style scoped>\n",
       "    .dataframe tbody tr th:only-of-type {\n",
       "        vertical-align: middle;\n",
       "    }\n",
       "\n",
       "    .dataframe tbody tr th {\n",
       "        vertical-align: top;\n",
       "    }\n",
       "\n",
       "    .dataframe thead th {\n",
       "        text-align: right;\n",
       "    }\n",
       "</style>\n",
       "<table border=\"1\" class=\"dataframe\">\n",
       "  <thead>\n",
       "    <tr style=\"text-align: right;\">\n",
       "      <th></th>\n",
       "      <th>A</th>\n",
       "      <th>B</th>\n",
       "      <th>B++</th>\n",
       "    </tr>\n",
       "  </thead>\n",
       "  <tbody>\n",
       "    <tr>\n",
       "      <th>A</th>\n",
       "      <td>0.0</td>\n",
       "      <td>0.0</td>\n",
       "      <td>100.0</td>\n",
       "    </tr>\n",
       "    <tr>\n",
       "      <th>B</th>\n",
       "      <td>0.0</td>\n",
       "      <td>0.0</td>\n",
       "      <td>0.0</td>\n",
       "    </tr>\n",
       "    <tr>\n",
       "      <th>B++</th>\n",
       "      <td>0.0</td>\n",
       "      <td>0.0</td>\n",
       "      <td>0.0</td>\n",
       "    </tr>\n",
       "  </tbody>\n",
       "</table>\n",
       "</div>"
      ],
      "text/plain": [
       "       A    B    B++\n",
       "A    0.0  0.0  100.0\n",
       "B    0.0  0.0    0.0\n",
       "B++  0.0  0.0    0.0"
      ]
     },
     "execution_count": 159,
     "metadata": {},
     "output_type": "execute_result"
    }
   ],
   "source": [
    "results['rating_matrix']"
   ]
  },
  {
   "cell_type": "code",
   "execution_count": 160,
   "metadata": {},
   "outputs": [
    {
     "data": {
      "text/html": [
       "<div>\n",
       "<style scoped>\n",
       "    .dataframe tbody tr th:only-of-type {\n",
       "        vertical-align: middle;\n",
       "    }\n",
       "\n",
       "    .dataframe tbody tr th {\n",
       "        vertical-align: top;\n",
       "    }\n",
       "\n",
       "    .dataframe thead th {\n",
       "        text-align: right;\n",
       "    }\n",
       "</style>\n",
       "<table border=\"1\" class=\"dataframe\">\n",
       "  <thead>\n",
       "    <tr style=\"text-align: right;\">\n",
       "      <th></th>\n",
       "      <th>A</th>\n",
       "      <th>B</th>\n",
       "      <th>B++</th>\n",
       "    </tr>\n",
       "  </thead>\n",
       "  <tbody>\n",
       "    <tr>\n",
       "      <th>A</th>\n",
       "      <td>-6</td>\n",
       "      <td>1</td>\n",
       "      <td>5</td>\n",
       "    </tr>\n",
       "    <tr>\n",
       "      <th>B</th>\n",
       "      <td>0</td>\n",
       "      <td>0</td>\n",
       "      <td>0</td>\n",
       "    </tr>\n",
       "    <tr>\n",
       "      <th>B++</th>\n",
       "      <td>0</td>\n",
       "      <td>0</td>\n",
       "      <td>0</td>\n",
       "    </tr>\n",
       "  </tbody>\n",
       "</table>\n",
       "</div>"
      ],
      "text/plain": [
       "     A  B  B++\n",
       "A   -6  1    5\n",
       "B    0  0    0\n",
       "B++  0  0    0"
      ]
     },
     "execution_count": 160,
     "metadata": {},
     "output_type": "execute_result"
    }
   ],
   "source": [
    "results['duration_matrix']"
   ]
  },
  {
   "cell_type": "code",
   "execution_count": null,
   "metadata": {},
   "outputs": [],
   "source": [
    "# Фидбэк:\n",
    "# 1.Соединить Python c БД по API. + 1 балл\n",
    "# 2.Из Python запросить информацию, необходимую для пункта 3. +2 балл\n",
    "# Следовадло бы также исполнить два запрос из ДЗ1 для даты начала и конца наблюдений, чтобы у всех компаний с рейтингами в \n",
    "# в рассматрваемом интервале, были наблюдания на начало и конец периода, даже если внутри его с ними не было никаких действий.\n",
    "# 3.Написать функцию, которая строит матричные характеристики рейтинговых переходов. Аргументы функции: вид рейтинга, границы периода наблюдения. На выходе функция должна выдавать не только матрицу, но и значения аргументов. Привести иллюстрационный пример использования. \n",
    "#  Функция написана. И логика написания функции верная, но результат оцевидно неадекватный + для дюраций не вычислили время. 1 баллов.\n",
    "# 4. Предусмотреть исполнение SQL запроса из п.2 внутри функции из п. 3. Запрос должен храниться в выходных данных функции. \n",
    "#  1 балл.\n",
    "# Текущая сумма: 5 балла."
   ]
  }
 ],
 "metadata": {
  "kernelspec": {
   "display_name": "Python 3",
   "language": "python",
   "name": "python3"
  },
  "language_info": {
   "codemirror_mode": {
    "name": "ipython",
    "version": 3
   },
   "file_extension": ".py",
   "mimetype": "text/x-python",
   "name": "python",
   "nbconvert_exporter": "python",
   "pygments_lexer": "ipython3",
   "version": "3.7.3"
  }
 },
 "nbformat": 4,
 "nbformat_minor": 2
}
