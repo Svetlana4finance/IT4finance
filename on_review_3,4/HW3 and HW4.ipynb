{
 "cells": [
  {
   "cell_type": "code",
   "execution_count": 2,
   "metadata": {},
   "outputs": [
    {
     "name": "stdout",
     "output_type": "stream",
     "text": [
      "Insert password: ········\n",
      "{'user': 'postgres', 'dbname': 'postgres', 'host': 'localhost', 'port': '5433', 'tty': '', 'options': '', 'sslmode': 'prefer', 'sslcompression': '0', 'krbsrvname': 'postgres', 'target_session_attrs': 'any'}\n"
     ]
    }
   ],
   "source": [
    "# Создаем соединение c базой данных (Для того, чтобы определить данные для подключения с базой данных \n",
    "# необходимо зайти в Posgresql, после введения пользовательского пароля, кликаем \"Servers\", \n",
    "# затем кликаем правой кнопкой мыши, в сплывающем окне выбираем \"Properties\", переходим в раздел \"Connection\".\n",
    "# В этом разделе отображены все данные, необходимые для соединения с базой данных. \n",
    "\n",
    "import psycopg2 # драйвер для postgresql\n",
    "import getpass  # эта функция скрывает пароль, можно не вводить данную функцию, \n",
    "# тогда в строке password вам необходимо указать свой пароль от базы данных \n",
    "\n",
    "conn=psycopg2.connect(user='postgres',\n",
    "                      database='postgres',\n",
    "                      host='localhost',\n",
    "                      port='5433',\n",
    "                      password=getpass.getpass('Insert password: ')\n",
    "                        )\n",
    "print(conn.get_dsn_parameters())\n"
   ]
  },
  {
   "cell_type": "code",
   "execution_count": 4,
   "metadata": {},
   "outputs": [
    {
     "data": {
      "text/html": [
       "<div>\n",
       "<style scoped>\n",
       "    .dataframe tbody tr th:only-of-type {\n",
       "        vertical-align: middle;\n",
       "    }\n",
       "\n",
       "    .dataframe tbody tr th {\n",
       "        vertical-align: top;\n",
       "    }\n",
       "\n",
       "    .dataframe thead th {\n",
       "        text-align: right;\n",
       "    }\n",
       "</style>\n",
       "<table border=\"1\" class=\"dataframe\">\n",
       "  <thead>\n",
       "    <tr style=\"text-align: right;\">\n",
       "      <th></th>\n",
       "      <th>GRADE</th>\n",
       "      <th>RAT_TYPE</th>\n",
       "    </tr>\n",
       "  </thead>\n",
       "  <tbody>\n",
       "    <tr>\n",
       "      <td>0</td>\n",
       "      <td>A+</td>\n",
       "      <td>FS&amp;R</td>\n",
       "    </tr>\n",
       "    <tr>\n",
       "      <td>1</td>\n",
       "      <td>B+</td>\n",
       "      <td>Cr&amp;D</td>\n",
       "    </tr>\n",
       "    <tr>\n",
       "      <td>2</td>\n",
       "      <td>B++</td>\n",
       "      <td>Cr&amp;D</td>\n",
       "    </tr>\n",
       "    <tr>\n",
       "      <td>3</td>\n",
       "      <td>A++</td>\n",
       "      <td>FS&amp;R</td>\n",
       "    </tr>\n",
       "    <tr>\n",
       "      <td>4</td>\n",
       "      <td>A</td>\n",
       "      <td>Cr&amp;D</td>\n",
       "    </tr>\n",
       "    <tr>\n",
       "      <td>...</td>\n",
       "      <td>...</td>\n",
       "      <td>...</td>\n",
       "    </tr>\n",
       "    <tr>\n",
       "      <td>836</td>\n",
       "      <td>A</td>\n",
       "      <td>Cr&amp;D</td>\n",
       "    </tr>\n",
       "    <tr>\n",
       "      <td>837</td>\n",
       "      <td>A+</td>\n",
       "      <td>FS&amp;R</td>\n",
       "    </tr>\n",
       "    <tr>\n",
       "      <td>838</td>\n",
       "      <td>A</td>\n",
       "      <td>Cr&amp;D</td>\n",
       "    </tr>\n",
       "    <tr>\n",
       "      <td>839</td>\n",
       "      <td>A+</td>\n",
       "      <td>R&amp;QS</td>\n",
       "    </tr>\n",
       "    <tr>\n",
       "      <td>840</td>\n",
       "      <td>A</td>\n",
       "      <td>Cr&amp;D</td>\n",
       "    </tr>\n",
       "  </tbody>\n",
       "</table>\n",
       "<p>841 rows × 2 columns</p>\n",
       "</div>"
      ],
      "text/plain": [
       "    GRADE RAT_TYPE\n",
       "0      A+     FS&R\n",
       "1      B+     Cr&D\n",
       "2     B++     Cr&D\n",
       "3     A++     FS&R\n",
       "4       A     Cr&D\n",
       "..    ...      ...\n",
       "836     A     Cr&D\n",
       "837    A+     FS&R\n",
       "838     A     Cr&D\n",
       "839    A+     R&QS\n",
       "840     A     Cr&D\n",
       "\n",
       "[841 rows x 2 columns]"
      ]
     },
     "execution_count": 4,
     "metadata": {},
     "output_type": "execute_result"
    }
   ],
   "source": [
    "import pandas as pd\n",
    "\n",
    "\n",
    "# Запрос, который выводит таблицу с рейтингом и типом рейтинга при условии, что используется школа агенства Эксперт РА \n",
    "# В строке \\\"DATE\\\" >=  AND \\\"DATE\\\" <=   пользователь может задать любой необходимый промежуток времени\n",
    "\n",
    "\n",
    "query = \"\"\"SELECT rating_task1.\\\"GRADE\\\", rating_task1.\\\"RAT_TYPE\\\"\n",
    "FROM rating_task1 \n",
    "WHERE \"AGENCY_ID\" = 'EXP'\n",
    "AND \\\"DATE\\\" >= '2014/01/01' AND \\\"DATE\\\" <= '2015/01/01' \n",
    "AND \\\"CHANGE\\\" != 'снят' AND \\\"CHANGE\\\" != 'приостановлен'\"\"\"\n",
    "\n",
    "ratings=pd.read_sql_query(query, conn)\n",
    "ratings\n"
   ]
  },
  {
   "cell_type": "code",
   "execution_count": 5,
   "metadata": {},
   "outputs": [
    {
     "data": {
      "text/html": [
       "<div>\n",
       "<style scoped>\n",
       "    .dataframe tbody tr th:only-of-type {\n",
       "        vertical-align: middle;\n",
       "    }\n",
       "\n",
       "    .dataframe tbody tr th {\n",
       "        vertical-align: top;\n",
       "    }\n",
       "\n",
       "    .dataframe thead th {\n",
       "        text-align: right;\n",
       "    }\n",
       "</style>\n",
       "<table border=\"1\" class=\"dataframe\">\n",
       "  <thead>\n",
       "    <tr style=\"text-align: right;\">\n",
       "      <th></th>\n",
       "      <th>GRADE</th>\n",
       "      <th>GRADE_ID</th>\n",
       "    </tr>\n",
       "  </thead>\n",
       "  <tbody>\n",
       "    <tr>\n",
       "      <td>0</td>\n",
       "      <td>A++</td>\n",
       "      <td>0</td>\n",
       "    </tr>\n",
       "    <tr>\n",
       "      <td>1</td>\n",
       "      <td>A+</td>\n",
       "      <td>1</td>\n",
       "    </tr>\n",
       "    <tr>\n",
       "      <td>2</td>\n",
       "      <td>A</td>\n",
       "      <td>2</td>\n",
       "    </tr>\n",
       "    <tr>\n",
       "      <td>3</td>\n",
       "      <td>B++</td>\n",
       "      <td>3</td>\n",
       "    </tr>\n",
       "    <tr>\n",
       "      <td>4</td>\n",
       "      <td>B+</td>\n",
       "      <td>4</td>\n",
       "    </tr>\n",
       "    <tr>\n",
       "      <td>5</td>\n",
       "      <td>B</td>\n",
       "      <td>5</td>\n",
       "    </tr>\n",
       "    <tr>\n",
       "      <td>6</td>\n",
       "      <td>C++</td>\n",
       "      <td>6</td>\n",
       "    </tr>\n",
       "    <tr>\n",
       "      <td>7</td>\n",
       "      <td>C+</td>\n",
       "      <td>7</td>\n",
       "    </tr>\n",
       "    <tr>\n",
       "      <td>8</td>\n",
       "      <td>C</td>\n",
       "      <td>8</td>\n",
       "    </tr>\n",
       "    <tr>\n",
       "      <td>9</td>\n",
       "      <td>D</td>\n",
       "      <td>9</td>\n",
       "    </tr>\n",
       "    <tr>\n",
       "      <td>10</td>\n",
       "      <td>E</td>\n",
       "      <td>10</td>\n",
       "    </tr>\n",
       "  </tbody>\n",
       "</table>\n",
       "</div>"
      ],
      "text/plain": [
       "   GRADE GRADE_ID\n",
       "0    A++        0\n",
       "1     A+        1\n",
       "2      A        2\n",
       "3    B++        3\n",
       "4     B+        4\n",
       "5      B        5\n",
       "6    C++        6\n",
       "7     C+        7\n",
       "8      C        8\n",
       "9      D        9\n",
       "10     E       10"
      ]
     },
     "execution_count": 5,
     "metadata": {},
     "output_type": "execute_result"
    }
   ],
   "source": [
    "# Запрос, который выводит таблицу из базы данных \n",
    "\n",
    "\n",
    "query1 = \"\"\"SELECT * \n",
    "FROM public.\"scale_EXP_task1\" \n",
    "WHERE \\\"GRADE\\\" != 'Снят' AND \\\"GRADE\\\" != 'Приостановлен'\"\"\"\n",
    "\n",
    "rat=pd.read_sql_query(query1, conn)\n",
    "rat"
   ]
  },
  {
   "cell_type": "code",
   "execution_count": 6,
   "metadata": {},
   "outputs": [
    {
     "data": {
      "text/html": [
       "<div>\n",
       "<style scoped>\n",
       "    .dataframe tbody tr th:only-of-type {\n",
       "        vertical-align: middle;\n",
       "    }\n",
       "\n",
       "    .dataframe tbody tr th {\n",
       "        vertical-align: top;\n",
       "    }\n",
       "\n",
       "    .dataframe thead tr th {\n",
       "        text-align: left;\n",
       "    }\n",
       "\n",
       "    .dataframe thead tr:last-of-type th {\n",
       "        text-align: right;\n",
       "    }\n",
       "</style>\n",
       "<table border=\"1\" class=\"dataframe\">\n",
       "  <thead>\n",
       "    <tr>\n",
       "      <th></th>\n",
       "      <th colspan=\"2\" halign=\"left\">RAT_TYPE</th>\n",
       "    </tr>\n",
       "    <tr>\n",
       "      <th>def</th>\n",
       "      <th>default</th>\n",
       "      <th>non-default</th>\n",
       "    </tr>\n",
       "    <tr>\n",
       "      <th>GRADE_ID</th>\n",
       "      <th></th>\n",
       "      <th></th>\n",
       "    </tr>\n",
       "  </thead>\n",
       "  <tbody>\n",
       "    <tr>\n",
       "      <td>0</td>\n",
       "      <td>13.0</td>\n",
       "      <td>71.0</td>\n",
       "    </tr>\n",
       "    <tr>\n",
       "      <td>1</td>\n",
       "      <td>103.0</td>\n",
       "      <td>75.0</td>\n",
       "    </tr>\n",
       "    <tr>\n",
       "      <td>2</td>\n",
       "      <td>304.0</td>\n",
       "      <td>91.0</td>\n",
       "    </tr>\n",
       "    <tr>\n",
       "      <td>3</td>\n",
       "      <td>79.0</td>\n",
       "      <td>16.0</td>\n",
       "    </tr>\n",
       "    <tr>\n",
       "      <td>4</td>\n",
       "      <td>12.0</td>\n",
       "      <td>5.0</td>\n",
       "    </tr>\n",
       "    <tr>\n",
       "      <td>5</td>\n",
       "      <td>3.0</td>\n",
       "      <td>3.0</td>\n",
       "    </tr>\n",
       "    <tr>\n",
       "      <td>6</td>\n",
       "      <td>3.0</td>\n",
       "      <td>1.0</td>\n",
       "    </tr>\n",
       "    <tr>\n",
       "      <td>7</td>\n",
       "      <td>6.0</td>\n",
       "      <td>2.0</td>\n",
       "    </tr>\n",
       "    <tr>\n",
       "      <td>8</td>\n",
       "      <td>4.0</td>\n",
       "      <td>0.0</td>\n",
       "    </tr>\n",
       "    <tr>\n",
       "      <td>10</td>\n",
       "      <td>11.0</td>\n",
       "      <td>1.0</td>\n",
       "    </tr>\n",
       "  </tbody>\n",
       "</table>\n",
       "</div>"
      ],
      "text/plain": [
       "         RAT_TYPE            \n",
       "def       default non-default\n",
       "GRADE_ID                     \n",
       "0            13.0        71.0\n",
       "1           103.0        75.0\n",
       "2           304.0        91.0\n",
       "3            79.0        16.0\n",
       "4            12.0         5.0\n",
       "5             3.0         3.0\n",
       "6             3.0         1.0\n",
       "7             6.0         2.0\n",
       "8             4.0         0.0\n",
       "10           11.0         1.0"
      ]
     },
     "execution_count": 6,
     "metadata": {},
     "output_type": "execute_result"
    }
   ],
   "source": [
    "# Перевод текстового значения 'GRADE_ID' в числовое \n",
    "\n",
    "rat['GRADE_ID'] = rat['GRADE_ID'].astype(int)\n",
    "\n",
    "# Объединение таблиц \n",
    "\n",
    "x = pd.merge(rat, ratings, how='inner', on=['GRADE'])\n",
    "x\n",
    "\n",
    "# # С помощью функции pivot создается таблица, в которой отображается количество компаний, \n",
    "# # допустивших и недопустивших дефолт на заданном промежутке времени, которые, в свою очередь, сгруппированны по grade\n",
    "\n",
    "ratings1 = x[['GRADE_ID', 'RAT_TYPE']]\n",
    "ratings1['def'] = ratings1['RAT_TYPE']\n",
    "ratings1['def'] = ratings1['def'].replace(to_replace = {'Cr&D': 'default', 'FS&R': 'non-default', 'R&QS': 'non-default'})\n",
    "ratings1 = ratings1.pivot_table(index = 'GRADE_ID', columns = 'def', aggfunc = 'count')\n",
    "ratings1 = ratings1.replace(to_replace = {float('nan'): 0})\n",
    "ratings1"
   ]
  },
  {
   "cell_type": "code",
   "execution_count": 19,
   "metadata": {},
   "outputs": [
    {
     "data": {
      "image/png": "[encoded data removed]",
      "text/plain": [
       "<Figure size 432x288 with 1 Axes>"
      ]
     },
     "metadata": {
      "needs_background": "light"
     },
     "output_type": "display_data"
    },
    {
     "data": {
      "text/plain": [
       "<Figure size 432x288 with 0 Axes>"
      ]
     },
     "metadata": {},
     "output_type": "display_data"
    }
   ],
   "source": [
    "import matplotlib.pyplot as plt\n",
    "\n",
    "# Создание графика вида bar с заданными цветами для разных групп, для допустивших дефолт - красный, для недопустивших дефолт - зеленый\n",
    "\n",
    "plt.bar(ratings1.index.values, ratings1['RAT_TYPE']['default'].values, label = 'Non-default', color = 'g')\n",
    "plt.bar(ratings1.index.values, ratings1['RAT_TYPE']['non-default'].values,  label = 'Default', color = 'r')\n",
    "\n",
    "# Добавление легенды\n",
    "plt.legend()\n",
    "\n",
    "data1 = '2014/01/01'\n",
    "data2 = '2015/01/01'\n",
    "\n",
    "# Добавление заголовка \n",
    "plt.title('Распределение допустивших и недопустивших дефолт заемщиков по рейтинговым категориям за период с  ' + str(data1) + ' до ' + str(data2))\n",
    "\n",
    "plt.show()\n",
    "\n",
    "plt.savefig('Распределение допустивших и недопустивших дефолт заемщиков по рейтинговым категориям.png')"
   ]
  },
  {
   "cell_type": "code",
   "execution_count": 65,
   "metadata": {},
   "outputs": [
    {
     "data": {
      "image/png": "[encoded data removed]",
      "text/plain": [
       "<Figure size 720x720 with 1 Axes>"
      ]
     },
     "metadata": {
      "needs_background": "light"
     },
     "output_type": "display_data"
    }
   ],
   "source": [
    "# Эмпирические функции распределения недефолтеров и дефолтеров по рейтинговым категориям\n",
    "\n",
    "import pandas as pd\n",
    "\n",
    "# Формирование таблицы из индексов\n",
    "ratings2 = pd.DataFrame(index = ratings1.index)\n",
    "\n",
    "# Присвоение колонке с индексом 0 имени 'non-default'], присвоение колонке с индексом 1 имени 'default']\n",
    "\n",
    "ratings2['non-default'] = ratings1['RAT_TYPE'][0]\n",
    "\n",
    "ratings2['default'] = ratings1['RAT_TYPE'][1]\n",
    "\n",
    "# Вычисление частоты распределения по категории 'default' и 'non-default'\n",
    "\n",
    "ratings2['default_cumsum'] = ratings2['default'].cumsum()/ratings2['default'].sum()\n",
    "\n",
    "ratings2['non-default_cumsum'] = ratings2['non-default'].cumsum()/ratings2['non-default'].sum()\n",
    "\n",
    "ratings3 = ratings2[['default_cumsum', 'non-default_cumsum']]\n",
    "\n",
    "ratings3.plot(kind = 'bar', figsize = [10,10], fontsize = 10)\n",
    "\n",
    "plt.show()\n",
    "\n",
    "plt.savefig('Распределение недефолтеров и дефолтеров.png')\n",
    "\n",
    "\n",
    "\n"
   ]
  },
  {
   "cell_type": "code",
   "execution_count": 10,
   "metadata": {
    "scrolled": true
   },
   "outputs": [
    {
     "name": "stdout",
     "output_type": "stream",
     "text": [
      "Requirement already satisfied: jinja2 in /opt/anaconda3/lib/python3.7/site-packages (2.10.3)\n",
      "Requirement already satisfied: MarkupSafe>=0.23 in /opt/anaconda3/lib/python3.7/site-packages (from jinja2) (1.1.1)\n",
      "Note: you may need to restart the kernel to use updated packages.\n"
     ]
    }
   ],
   "source": [
    "pip install jinja2"
   ]
  },
  {
   "cell_type": "code",
   "execution_count": 11,
   "metadata": {},
   "outputs": [
    {
     "name": "stdout",
     "output_type": "stream",
     "text": [
      "Requirement already satisfied: weasyprint in /opt/anaconda3/lib/python3.7/site-packages (50)\n",
      "Requirement already satisfied: cairocffi>=0.9.0 in /opt/anaconda3/lib/python3.7/site-packages (from weasyprint) (1.1.0)\n",
      "Requirement already satisfied: CairoSVG>=2.4.0 in /opt/anaconda3/lib/python3.7/site-packages (from weasyprint) (2.4.2)\n",
      "Requirement already satisfied: tinycss2>=1.0.0 in /opt/anaconda3/lib/python3.7/site-packages (from weasyprint) (1.0.2)\n",
      "Requirement already satisfied: setuptools>=39.2.0 in /opt/anaconda3/lib/python3.7/site-packages (from weasyprint) (42.0.2)\n",
      "Requirement already satisfied: html5lib>=0.999999999 in /opt/anaconda3/lib/python3.7/site-packages (from weasyprint) (1.0.1)\n",
      "Requirement already satisfied: cffi>=0.6 in /opt/anaconda3/lib/python3.7/site-packages (from weasyprint) (1.12.3)\n",
      "Requirement already satisfied: Pyphen>=0.8 in /opt/anaconda3/lib/python3.7/site-packages (from weasyprint) (0.9.5)\n",
      "Requirement already satisfied: cssselect2>=0.1 in /opt/anaconda3/lib/python3.7/site-packages (from weasyprint) (0.2.2)\n",
      "Requirement already satisfied: defusedxml in /opt/anaconda3/lib/python3.7/site-packages (from CairoSVG>=2.4.0->weasyprint) (0.6.0)\n",
      "Requirement already satisfied: pillow in /opt/anaconda3/lib/python3.7/site-packages (from CairoSVG>=2.4.0->weasyprint) (6.2.0)\n",
      "Requirement already satisfied: webencodings>=0.4 in /opt/anaconda3/lib/python3.7/site-packages (from tinycss2>=1.0.0->weasyprint) (0.5.1)\n",
      "Requirement already satisfied: six>=1.9 in /opt/anaconda3/lib/python3.7/site-packages (from html5lib>=0.999999999->weasyprint) (1.12.0)\n",
      "Requirement already satisfied: pycparser in /opt/anaconda3/lib/python3.7/site-packages (from cffi>=0.6->weasyprint) (2.19)\n",
      "Note: you may need to restart the kernel to use updated packages.\n"
     ]
    }
   ],
   "source": [
    "pip install weasyprint"
   ]
  },
  {
   "cell_type": "code",
   "execution_count": 12,
   "metadata": {},
   "outputs": [
    {
     "name": "stdout",
     "output_type": "stream",
     "text": [
      "Requirement already up-to-date: pip in /opt/anaconda3/lib/python3.7/site-packages (19.3.1)\n",
      "Requirement already up-to-date: setuptools in /opt/anaconda3/lib/python3.7/site-packages (42.0.2)\n",
      "Note: you may need to restart the kernel to use updated packages.\n"
     ]
    }
   ],
   "source": [
    "pip install --upgrade pip setuptools"
   ]
  },
  {
   "cell_type": "code",
   "execution_count": 14,
   "metadata": {},
   "outputs": [],
   "source": [
    "# Для Mac os GTK устанавливается следующим образом: \n",
    "# необходимо открыть Терминал и ввести там: ruby -e \"$(curl -fsSL https://raw.githubusercontent.com/Homebrew/install/master/install)\" < /dev/null 2> /dev/null\n",
    "# после чего потребуется ввести пароль пользователя Mac \n",
    "# после ввода пароля необходимо ввести: brew install gtk+\n",
    "# Затем требуется перезапустить Jupyter notebook "
   ]
  },
  {
   "cell_type": "code",
   "execution_count": null,
   "metadata": {},
   "outputs": [],
   "source": [
    "# Формируем отчет \n",
    "\n",
    "from __future__ import print_function\n",
    "from jinja2 import Environment, FileSystemLoader\n",
    "from weasyprint import HTML, Document\n",
    "import os\n",
    "\n",
    "env = Environment(loader=FileSystemLoader('.'))\n",
    "template = env.get_template(\"myreport.html\") \n",
    "template_vars = {\"title\": \"Отчет составила Пантелеева Ирина\",\n",
    "                \"INTRO\": \"Данный отчет содержит информации о распределении дефолтеров и недефолтеров по рейтинговым категориям\", \n",
    "                 \"TABLE_DESC\": \"Таблица. В таблице представлено количество компаний, допустивших и недопустивших дефолт, по рейтинговым категориям\",\n",
    "                 \"TABLE\": ratings1.to_html(), \n",
    "                 \"IMAGE_DESC\": \"Рисунок. На графике изображено распределение компаний, допустивших и недопустивших дефолт, по рейтинговым категориям\", \n",
    "                 \"IMAGE\": os.path.realpath('Распределение допустивших и недопустивших дефолт заемщиков по рейтинговым категориям.png')\n",
    "                }\n",
    "# os.path.realpath - путь к файлу относительно рабочей папки. Код выше подразумевает, что картинка хранится в рабочей папке.\n",
    "# Собираем и печатаем репорт\n",
    "html_out = template.render(template_vars, presentational_hints=True)\n",
    "HTML(string=html_out).write_pdf('my_report.pdf', presentational_hints=True)\n"
   ]
  }
 ],
 "metadata": {
  "kernelspec": {
   "display_name": "Python 3",
   "language": "python",
   "name": "python3"
  },
  "language_info": {
   "codemirror_mode": {
    "name": "ipython",
    "version": 3
   },
   "file_extension": ".py",
   "mimetype": "text/x-python",
   "name": "python",
   "nbconvert_exporter": "python",
   "pygments_lexer": "ipython3",
   "version": "3.7.3"
  }
 },
 "nbformat": 4,
 "nbformat_minor": 2
}
